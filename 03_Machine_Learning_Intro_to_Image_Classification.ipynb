{
 "cells": [
  {
   "cell_type": "markdown",
   "metadata": {},
   "source": [
    "# 3 - Introduction to Image Classification"
   ]
  },
  {
   "cell_type": "code",
   "execution_count": 1,
   "metadata": {},
   "outputs": [],
   "source": [
    "# ! pip install tensorflow==2.2\n",
    "\n",
    "import os\n",
    "import tensorflow as tf #\n",
    "import numpy as np\n",
    "import matplotlib.pyplot as plt"
   ]
  },
  {
   "cell_type": "markdown",
   "metadata": {},
   "source": [
    "# 3.1 Convolutions\n",
    "\n",
    "So far we have used data that doesn't have any inherent structure. For example, for the inputs vector $X = [x_1, x_2, x_3, x_4]$, the order of the $x$s doesn't really matter. We could train another model with a different order and expect the same results, only the corresponding $w$s would change to weight them as needed.\n",
    "\n",
    "In constrast, data such as images (and even text!), have an explicit structure. We are looking for patterns that could correlate in two dimensions. To make it clearer what is meant by structure, look what happens to the following 28x28 pixel image when we unravel it into a single dimensional vector.\n",
    "\n",
    "![structure data](./assets/structured_data.png)\n",
    "\n",
    "The spatial correlations disappear! We could try to relearn the structure using the neural networks we have looked at so far, but it is a much harder problem. We therefore want to be able to preserve the original structure in the data. The way to do this is to have a set of weights which retain spatial relationships. This set of weights is called a **kernel** or a **filter** and looks like this:\n",
    "\n",
    "![filter](./assets/filter.png)\n",
    "\n",
    "Filters are at the heart of image processing. People once spent whole PhDs designing filters to transform images in particular ways. For example, the following filter is an **edge dectector** and just as in previous topics, the weights transform the image linearly, into a **weighted sum of the pixels in the 3x3 neighborhood**. \n",
    "\n",
    "![edge_detector](./assets/edge_detector.png)\n",
    "\n",
    "\n",
    "When moved across an image in a sliding-window fashsion the transformation reveals the edges of the image.\n",
    "\n",
    "<br>\n",
    "\n",
    "![convolution](./assets/convolution.gif)\n",
    "\n",
    "<br>\n",
    "\n",
    "Convolutional Neural Networks (CNNs) take this idea, and go about **learning the weights** instead of specifying them in advanced. Combined with bias terms and non-linear activation functions, a CNN is composed of multiple convolutional layers (layers with filters) optimized to discriminate features suitable for your dataset. This technology is enormously powerful. No-one knows how to design a filter that can discriminate between different dogs breeds, but we can now learn those filters easily. This is why the use of CNNs is now pervasive in image processing, and is increasingly the go-to technique in bio- and biomedical imaging.\n",
    "\n",
    "To get started, let's now build a small CNN in `tensorflow` to classify 60,000 hand-written digits into 10 classes.\n"
   ]
  },
  {
   "cell_type": "code",
   "execution_count": 2,
   "metadata": {},
   "outputs": [],
   "source": [
    "# Load the data\n",
    "(X_train, y_train), (X_test, y_test) = tf.keras.datasets.mnist.load_data()"
   ]
  },
  {
   "cell_type": "code",
   "execution_count": 3,
   "metadata": {},
   "outputs": [],
   "source": [
    "# convert to one-hot\n",
    "y_train = tf.keras.backend.one_hot(y_train, num_classes=10)\n",
    "y_test = tf.keras.backend.one_hot(y_test, num_classes=10)"
   ]
  },
  {
   "cell_type": "code",
   "execution_count": 4,
   "metadata": {},
   "outputs": [
    {
     "name": "stdout",
     "output_type": "stream",
     "text": [
      "(60000, 28, 28) --> (60000, 28, 28, 1)\n"
     ]
    }
   ],
   "source": [
    "# add a channel dimensional to the images\n",
    "old_shape = X_train.shape\n",
    "X_train = np.expand_dims(X_train, axis=-1)\n",
    "X_test = np.expand_dims(X_test, axis=-1)\n",
    "print(old_shape, \"-->\", X_train.shape)"
   ]
  },
  {
   "cell_type": "markdown",
   "metadata": {},
   "source": [
    "The model will consist of 3 convolutional layers and then a `GlobalAvgPooling2D`, which takes the spatial average for each filter. These features will then be used for classification. To improve training speed we will also use the `relu` activation function, which stands for **Rectified Linear Unit**. This helps to ensure there are always useful gradients to learning with."
   ]
  },
  {
   "cell_type": "code",
   "execution_count": 5,
   "metadata": {},
   "outputs": [],
   "source": [
    "from tensorflow.keras.layers import Input, Conv2D, GlobalAveragePooling2D, Dense\n",
    "from tensorflow.keras.models import Model"
   ]
  },
  {
   "cell_type": "code",
   "execution_count": 6,
   "metadata": {},
   "outputs": [
    {
     "name": "stdout",
     "output_type": "stream",
     "text": [
      "Model: \"CNN_Digits\"\n",
      "_________________________________________________________________\n",
      "Layer (type)                 Output Shape              Param #   \n",
      "=================================================================\n",
      "CNN_Input (InputLayer)       [(None, 28, 28, 1)]       0         \n",
      "_________________________________________________________________\n",
      "Conv_1 (Conv2D)              (None, 14, 14, 12)        120       \n",
      "_________________________________________________________________\n",
      "Conv_2 (Conv2D)              (None, 7, 7, 12)          1308      \n",
      "_________________________________________________________________\n",
      "Conv_3 (Conv2D)              (None, 4, 4, 12)          1308      \n",
      "_________________________________________________________________\n",
      "Global_Pool (GlobalAveragePo (None, 12)                0         \n",
      "_________________________________________________________________\n",
      "CNN_Output (Dense)           (None, 10)                130       \n",
      "=================================================================\n",
      "Total params: 2,866\n",
      "Trainable params: 2,866\n",
      "Non-trainable params: 0\n",
      "_________________________________________________________________\n"
     ]
    }
   ],
   "source": [
    "tf.keras.backend.clear_session()\n",
    "\n",
    "# Model input --------- H   W   C\n",
    "model_in = Input(shape=(28, 28, 1), name=\"CNN_Input\")\n",
    "# Connect 3 Convolutional Layers with 3x3 kernels, \n",
    "# and a sliding-window stride of 2 horizontal / 2 vertical\n",
    "x = Conv2D(filters=12, kernel_size=(3,3), strides=(2,2),\n",
    "           padding=\"same\", activation=\"relu\", name=\"Conv_1\")(model_in)\n",
    "x = Conv2D(filters=12, kernel_size=(3,3), strides=(2,2),\n",
    "           padding=\"same\", activation=\"relu\", name=\"Conv_2\")(x)\n",
    "x = Conv2D(filters=12, kernel_size=(3,3), strides=(2,2),\n",
    "           padding=\"same\", activation=\"relu\", name=\"Conv_3\")(x)\n",
    "# Spatial average for each filter\n",
    "x = GlobalAveragePooling2D(name=\"Global_Pool\")(x)\n",
    "model_out = Dense(units=10, activation=\"softmax\", name=\"CNN_Output\")(x)\n",
    "model = Model(inputs=[model_in], outputs=[model_out], name=\"CNN_Digits\")\n",
    "\n",
    "model.summary()"
   ]
  },
  {
   "cell_type": "markdown",
   "metadata": {},
   "source": [
    "We will big a better gradient descent algorithm called Adam using the cross entropy loss for multi-class classification."
   ]
  },
  {
   "cell_type": "code",
   "execution_count": 7,
   "metadata": {},
   "outputs": [],
   "source": [
    "from tensorflow.keras.optimizers import Adam"
   ]
  },
  {
   "cell_type": "code",
   "execution_count": 8,
   "metadata": {},
   "outputs": [],
   "source": [
    "model.compile(optimizer=Adam(learning_rate=0.001), loss=\"categorical_crossentropy\", metrics=[\"acc\"])"
   ]
  },
  {
   "cell_type": "markdown",
   "metadata": {},
   "source": [
    "We will now train using the `model.fit()` method and pick how many epochs to train for. An **epoch** refers to the model having been trained on the entire dataset. 5 epochs therefore means the model will see the entire dataset 5 times during training."
   ]
  },
  {
   "cell_type": "code",
   "execution_count": 9,
   "metadata": {},
   "outputs": [
    {
     "name": "stdout",
     "output_type": "stream",
     "text": [
      "Train on 60000 samples\n",
      "Epoch 1/5\n",
      "60000/60000 [==============================] - 5s 88us/sample - loss: 0.7271 - acc: 0.7635\n",
      "Epoch 2/5\n",
      "60000/60000 [==============================] - 5s 91us/sample - loss: 0.2786 - acc: 0.9173\n",
      "Epoch 3/5\n",
      "60000/60000 [==============================] - 5s 91us/sample - loss: 0.2142 - acc: 0.9370\n",
      "Epoch 4/5\n",
      "60000/60000 [==============================] - 6s 92us/sample - loss: 0.1821 - acc: 0.9469\n",
      "Epoch 5/5\n",
      "60000/60000 [==============================] - 6s 93us/sample - loss: 0.1627 - acc: 0.9517\n"
     ]
    }
   ],
   "source": [
    "history = model.fit(x=X_train, y=y_train, epochs=5)"
   ]
  },
  {
   "cell_type": "markdown",
   "metadata": {},
   "source": [
    "The `history` object contains a dictionary called `history` which stores the loss and accuracy metrics from training. "
   ]
  },
  {
   "cell_type": "code",
   "execution_count": 10,
   "metadata": {},
   "outputs": [
    {
     "data": {
      "image/png": "[encoded data removed]",
      "text/plain": [
       "<Figure size 864x288 with 2 Axes>"
      ]
     },
     "metadata": {
      "needs_background": "light"
     },
     "output_type": "display_data"
    }
   ],
   "source": [
    "fig, ax = plt.subplots(1, 2, figsize=(12, 4))\n",
    "\n",
    "ax[0].plot(range(5), history.history[\"loss\"])\n",
    "ax[1].plot(range(5), history.history[\"acc\"], color=\"orange\")\n",
    "\n",
    "ax[0].set_ylabel(\"Loss (Cross-Entropy)\")\n",
    "ax[0].set_xlabel(\"Epochs\")\n",
    "ax[1].set_ylabel(\"Accuracy\")\n",
    "ax[1].set_xlabel(\"Epochs\")\n",
    "\n",
    "ax[1].set_ylim(top=1)\n",
    "\n",
    "for a in ax:\n",
    "    a.spines[\"top\"].set_visible(False)\n",
    "    a.spines[\"right\"].set_visible(False)\n",
    "\n",
    "plt.show()"
   ]
  },
  {
   "cell_type": "markdown",
   "metadata": {},
   "source": [
    "As mentioned in the previous notebook, we need to **validate** our model on an unseen data set i.e. (`X_test`, `y_test`)"
   ]
  },
  {
   "cell_type": "code",
   "execution_count": 11,
   "metadata": {},
   "outputs": [
    {
     "name": "stdout",
     "output_type": "stream",
     "text": [
      "10000/10000 [==============================] - 0s 29us/sample - loss: 0.1553 - acc: 0.9548\n",
      "Validation Accuracy: 0.9548\n"
     ]
    }
   ],
   "source": [
    "loss, acc = model.evaluate(x=X_test, y=y_test)\n",
    "print(\"Validation Accuracy:\", acc)"
   ]
  },
  {
   "cell_type": "markdown",
   "metadata": {},
   "source": [
    "This tells us that our model performs just as well on our test data as it does on our training data. This is exactly what we want! We can save the weights of our model (and load them) in `hd5` format as follows:"
   ]
  },
  {
   "cell_type": "code",
   "execution_count": 76,
   "metadata": {},
   "outputs": [],
   "source": [
    "model.save_weights(\"./weights/digits_95.h5\")\n",
    "#model.load_weights(\"./weights/digits_95.h5\")"
   ]
  },
  {
   "cell_type": "markdown",
   "metadata": {},
   "source": [
    "# 3.2 Transfer Learning\n",
    "\n",
    "One of the challenges of deep learning is the enormous amount of data required to avoid over-fitting on the training set. Although it depends on the problem, most imaging tasks will need a minimum of tens of thousands of images to train on. For many people that is just not possible.\n",
    "\n",
    "Thankfully, a paradigm called **Transfer Learning** exists. It makes the assumption that weights useful for classifying images from one domain are also useful to another, and so can be transfered. In practice, it is common to see people using **pretrained networks** from the ImageNet Dataset (14 million images of everyday objects) and apply them to their problem.  This techique has been demonstrated to out-perform [expert humans at classifying skin cancers!](https://www.nature.com/articles/nature21056)\n",
    "\n",
    "We will demonstrate this on a small dataset of skin cancer images, classifying them as either melanoma or nevus. For this example, we will use the `MobileNet2` pretrained network, a small but high-performing architecture. We will use the pretained network to **extract features** from the images, and then using those features train our own classification layer suitable to our problem.\n",
    "\n",
    "![skin cancer](./assets/skin_cancer.png)"
   ]
  },
  {
   "cell_type": "code",
   "execution_count": 14,
   "metadata": {},
   "outputs": [],
   "source": [
    "from tensorflow.keras.applications.mobilenet_v2 import MobileNetV2, preprocess_input\n",
    "from tensorflow.keras.preprocessing.image import ImageDataGenerator"
   ]
  },
  {
   "cell_type": "markdown",
   "metadata": {},
   "source": [
    "### Prepare Data"
   ]
  },
  {
   "cell_type": "code",
   "execution_count": 15,
   "metadata": {},
   "outputs": [
    {
     "name": "stdout",
     "output_type": "stream",
     "text": [
      "Found 1600 images belonging to 2 classes.\n",
      "Found 400 images belonging to 2 classes.\n"
     ]
    }
   ],
   "source": [
    "data_gen = ImageDataGenerator(validation_split=0.2, preprocessing_function=preprocess_input)\n",
    "\n",
    "train_gen = data_gen.flow_from_directory(directory=\"./data/skinCancer/\",\n",
    "                                         target_size=(128, 128),\n",
    "                                         class_mode='binary',\n",
    "                                         batch_size=12,\n",
    "                                         seed=123,\n",
    "                                         subset=\"training\", \n",
    ")\n",
    "\n",
    "val_gen = data_gen.flow_from_directory(directory=\"./data/skinCancer/\",\n",
    "                                         target_size=(128, 128),\n",
    "                                         class_mode='binary',\n",
    "                                         batch_size=12,\n",
    "                                         seed=123,\n",
    "                                         subset=\"validation\", \n",
    ")"
   ]
  },
  {
   "cell_type": "markdown",
   "metadata": {},
   "source": [
    "### Build Model"
   ]
  },
  {
   "cell_type": "code",
   "execution_count": 16,
   "metadata": {},
   "outputs": [],
   "source": [
    "tf.keras.backend.clear_session()"
   ]
  },
  {
   "cell_type": "code",
   "execution_count": 17,
   "metadata": {},
   "outputs": [
    {
     "name": "stdout",
     "output_type": "stream",
     "text": [
      "Downloading data from https://github.com/JonathanCMitchell/mobilenet_v2_keras/releases/download/v1.1/mobilenet_v2_weights_tf_dim_ordering_tf_kernels_1.0_128_no_top.h5\n",
      "9412608/9406464 [==============================] - 14s 1us/step\n"
     ]
    }
   ],
   "source": [
    "mobile = MobileNetV2(input_shape=(128, 128, 3), include_top=False, weights=\"imagenet\")\n",
    "# lock weights of mobile network\n",
    "mobile.trainable = False"
   ]
  },
  {
   "cell_type": "code",
   "execution_count": 42,
   "metadata": {},
   "outputs": [],
   "source": [
    "#mobile.summary()"
   ]
  },
  {
   "cell_type": "code",
   "execution_count": 18,
   "metadata": {},
   "outputs": [
    {
     "name": "stdout",
     "output_type": "stream",
     "text": [
      "Model: \"Classifier_Transfer_Learning\"\n",
      "_________________________________________________________________\n",
      "Layer (type)                 Output Shape              Param #   \n",
      "=================================================================\n",
      "Input_Transfer_Learning (Inp [(None, 128, 128, 3)]     0         \n",
      "_________________________________________________________________\n",
      "mobilenetv2_1.00_128 (Model) (None, 4, 4, 1280)        2257984   \n",
      "_________________________________________________________________\n",
      "GlobalPooling (GlobalAverage (None, 1280)              0         \n",
      "_________________________________________________________________\n",
      "Output_Transfer_Learning (De (None, 1)                 1281      \n",
      "=================================================================\n",
      "Total params: 2,259,265\n",
      "Trainable params: 1,281\n",
      "Non-trainable params: 2,257,984\n",
      "_________________________________________________________________\n"
     ]
    }
   ],
   "source": [
    "model_in = Input(shape=(128, 128, 3), name=\"Input_Transfer_Learning\")\n",
    "# Extract features\n",
    "x = mobile(model_in)\n",
    "# Spatial Averageing\n",
    "x = GlobalAveragePooling2D(name=\"GlobalPooling\")(x)\n",
    "# Classify\n",
    "model_out = Dense(units=1, activation=\"sigmoid\", name=\"Output_Transfer_Learning\")(x)\n",
    "# Build model\n",
    "model = Model(inputs=[model_in], outputs=[model_out], name=\"Classifier_Transfer_Learning\")\n",
    "model.summary()"
   ]
  },
  {
   "cell_type": "markdown",
   "metadata": {},
   "source": [
    "We can see that there are over 2.2 million parameters in the `MobileNetv2`. Fortunately, we are only training 1,281 parameters. "
   ]
  },
  {
   "cell_type": "code",
   "execution_count": 19,
   "metadata": {},
   "outputs": [],
   "source": [
    "model.compile(optimizer=Adam(learning_rate=0.001), loss=\"binary_crossentropy\", metrics=[\"acc\"])"
   ]
  },
  {
   "cell_type": "code",
   "execution_count": 21,
   "metadata": {},
   "outputs": [
    {
     "name": "stdout",
     "output_type": "stream",
     "text": [
      "WARNING:tensorflow:sample_weight modes were coerced from\n",
      "  ...\n",
      "    to  \n",
      "  ['...']\n",
      "Train for 133 steps\n",
      "Epoch 1/12\n",
      "133/133 [==============================] - 23s 173ms/step - loss: 0.4906 - acc: 0.7569\n",
      "Epoch 2/12\n",
      "133/133 [==============================] - 24s 182ms/step - loss: 0.4277 - acc: 0.80423s - loss: 0.4\n",
      "Epoch 3/12\n",
      "133/133 [==============================] - 24s 181ms/step - loss: 0.3982 - acc: 0.8224\n",
      "Epoch 4/12\n",
      "133/133 [==============================] - 24s 181ms/step - loss: 0.3779 - acc: 0.8293\n",
      "Epoch 5/12\n",
      "133/133 [==============================] - 24s 179ms/step - loss: 0.3476 - acc: 0.8552\n",
      "Epoch 6/12\n",
      "133/133 [==============================] - 24s 177ms/step - loss: 0.3399 - acc: 0.85965s - loss: 0.336 - ETA: 2s - loss: 0.34\n",
      "Epoch 7/12\n",
      "133/133 [==============================] - 24s 179ms/step - loss: 0.3185 - acc: 0.86905\n",
      "Epoch 8/12\n",
      "133/133 [==============================] - 24s 182ms/step - loss: 0.3057 - acc: 0.8778\n",
      "Epoch 9/12\n",
      "133/133 [==============================] - 24s 180ms/step - loss: 0.2996 - acc: 0.87971s - loss: 0.2966 - acc\n",
      "Epoch 10/12\n",
      "133/133 [==============================] - 24s 181ms/step - loss: 0.2867 - acc: 0.8829\n",
      "Epoch 11/12\n",
      "133/133 [==============================] - 24s 181ms/step - loss: 0.2813 - acc: 0.8923\n",
      "Epoch 12/12\n",
      "133/133 [==============================] - 24s 181ms/step - loss: 0.2710 - acc: 0.89173s - loss:\n"
     ]
    }
   ],
   "source": [
    "history = model.fit(x=train_gen,\n",
    "                    epochs=12,\n",
    "                    steps_per_epoch=1600//12 # n // batchsize\n",
    "                   )"
   ]
  },
  {
   "cell_type": "code",
   "execution_count": 22,
   "metadata": {},
   "outputs": [
    {
     "data": {
      "image/png": "[encoded data removed]",
      "text/plain": [
       "<Figure size 864x288 with 2 Axes>"
      ]
     },
     "metadata": {
      "needs_background": "light"
     },
     "output_type": "display_data"
    }
   ],
   "source": [
    "fig, ax = plt.subplots(1, 2, figsize=(12, 4))\n",
    "\n",
    "ax[0].plot(range(12), history.history[\"loss\"])\n",
    "ax[1].plot(range(12), history.history[\"acc\"], color=\"orange\")\n",
    "\n",
    "ax[0].set_ylabel(\"Loss (Cross-Entropy)\")\n",
    "ax[0].set_xlabel(\"Epochs\")\n",
    "ax[1].set_ylabel(\"Accuracy\")\n",
    "ax[1].set_xlabel(\"Epochs\")\n",
    "\n",
    "ax[1].set_ylim(top=1)\n",
    "\n",
    "for a in ax:\n",
    "    a.spines[\"top\"].set_visible(False)\n",
    "    a.spines[\"right\"].set_visible(False)\n",
    "\n",
    "plt.show()"
   ]
  },
  {
   "cell_type": "markdown",
   "metadata": {},
   "source": [
    "We can finally validate our model on the unseen data set."
   ]
  },
  {
   "cell_type": "code",
   "execution_count": 23,
   "metadata": {},
   "outputs": [
    {
     "name": "stdout",
     "output_type": "stream",
     "text": [
      "WARNING:tensorflow:sample_weight modes were coerced from\n",
      "  ...\n",
      "    to  \n",
      "  ['...']\n",
      "33/33 [==============================] - 2s 69ms/step - loss: 1.4961 - acc: 0.5101\n",
      "Validation Accuracy: 0.510101\n"
     ]
    }
   ],
   "source": [
    "loss, acc = model.evaluate(x=val_gen, steps=400//12)\n",
    "print(\"Validation Accuracy:\", acc)"
   ]
  },
  {
   "cell_type": "markdown",
   "metadata": {},
   "source": [
    "Both the loss and the accuracy metrics show us that there is a significant gap in performance between the training and validation data. This is a clear indication that we are over-fitting to the training data! We of course want to improve on this. In practice this is done via an iterative process, by using **regularisation techniques**, or **augmenting the training data**, or by **modifiying the archicture**, which will hopefully see the validation accuracy improve. However, in doing so, we are actually *tuning our network* to perform well on the validation set. This is **over-fitting on the validation set** and could lead to poor generalisability! Therefore, best practice in machine learning is to use the following data splits:\n",
    "\n",
    "- **Training Split**: 70-90% of the data used to train the model\n",
    "- **Validation Split**: 5-15% of the data used to improve generalisability\n",
    "- **Test Split**: 5-15% of the data use to provide a final performance measure.\n",
    "\n",
    "Importantly, the test split is only ever seen once, at the end of all the experiments."
   ]
  },
  {
   "cell_type": "code",
   "execution_count": null,
   "metadata": {},
   "outputs": [],
   "source": [
    "#model.save_weights(\"./weights/skin_64.h5\")\n",
    "#model.load_weights(\"./weights/skin_64.h5\")"
   ]
  },
  {
   "cell_type": "markdown",
   "metadata": {},
   "source": [
    "# Conclusion\n",
    "\n",
    "Here you have learned about **convolutional neural networks (CNNS)** and why they are suitable for image data. Using tensorflow you can build them in a straight-forward manner but you should also take notice of how many ways they can be modified, such as **number of layers, number of filters per layer, the filter size and stride size, the activation function to use, using global average pooling, or max pooling etc.** There are so many things to change that may improve the performance on your data set! \n",
    "\n",
    "Obviously we need a lot of data to ensure good generalisability, and so a nice shortcut is to utilise **transfer learning**. Despite this, there is no substitute for good data, and the more time you spend on collecting, labeling and preparing the data, the better your chances of success."
   ]
  }
 ],
 "metadata": {
  "kernelspec": {
   "display_name": "Python 3",
   "language": "python",
   "name": "python3"
  },
  "language_info": {
   "codemirror_mode": {
    "name": "ipython",
    "version": 3
   },
   "file_extension": ".py",
   "mimetype": "text/x-python",
   "name": "python",
   "nbconvert_exporter": "python",
   "pygments_lexer": "ipython3",
   "version": "3.7.6"
  }
 },
 "nbformat": 4,
 "nbformat_minor": 2
}
