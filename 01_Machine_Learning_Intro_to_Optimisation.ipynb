{
 "cells": [
  {
   "cell_type": "markdown",
   "metadata": {},
   "source": [
    "# 1.0 Introduction to Optimisation\n",
    "\n",
    "Machine Learning has the reputation of being complex. However, underlying the so-called \"complexity\" are simple ideas which are enormously accessible and require elementary level mathematics to understand. When talking about learning, we assume that knowledge cannot be instantly instantiated in a computer, or a brain for that matter! Instead, it is instantiated progressively, with many errors along the way. Machine Learning is therefore an algoirthmic paradigm which iteratively instantiates knowledge via **optimisation**, which simply means  the process of *minimising the errors*.\n",
    "\n",
    "### Required Packages"
   ]
  },
  {
   "cell_type": "code",
   "execution_count": 1,
   "metadata": {},
   "outputs": [],
   "source": [
    "# REQUIRED PACAKGES\n",
    "# ! pip install numpy\n",
    "# ! pip install matplotlib\n",
    "\n",
    "import numpy as np\n",
    "import matplotlib.pyplot as plt\n",
    "from mpl_toolkits.axes_grid1 import make_axes_locatable\n",
    "from matplotlib.colors import LinearSegmentedColormap"
   ]
  },
  {
   "cell_type": "markdown",
   "metadata": {},
   "source": [
    "### Data"
   ]
  },
  {
   "cell_type": "code",
   "execution_count": 2,
   "metadata": {},
   "outputs": [],
   "source": [
    "# part 1\n",
    "x = np.load(\"./data/x_range.npy\")\n",
    "f_x = np.load(\"./data/f_of_x.npy\")\n",
    "\n",
    "# part 2\n",
    "x_1 = np.load(\"./data/x_1.npy\")\n",
    "x_2 = np.load(\"./data/x_2.npy\")\n",
    "classes = np.load(\"./data/classes.npy\", allow_pickle=True)\n",
    "\n",
    "# Colors\n",
    "blue = (31/255., 119/255., 180/255.)\n",
    "OWB = LinearSegmentedColormap.from_list(name=\"demo\", colors=[\"orange\", \"white\", blue])"
   ]
  },
  {
   "cell_type": "markdown",
   "metadata": {},
   "source": [
    "## 1.1 Approximating Functions\n",
    "\n",
    "Consider the following graph:"
   ]
  },
  {
   "cell_type": "code",
   "execution_count": 3,
   "metadata": {},
   "outputs": [
    {
     "data": {
      "image/png": "[encoded data removed]",
      "text/plain": [
       "<Figure size 432x288 with 1 Axes>"
      ]
     },
     "metadata": {
      "needs_background": "light"
     },
     "output_type": "display_data"
    }
   ],
   "source": [
    "# Display plots in the notebook\n",
    "%matplotlib inline \n",
    "\n",
    "plt.scatter(x, f_x)\n",
    "\n",
    "plt.ylabel(\"$f(x)$\")\n",
    "plt.xlabel(\"$x$\")\n",
    "plt.ylim(0, 1.1)\n",
    "\n",
    "ax = plt.gca()\n",
    "ax.spines[\"top\"].set_visible(False)\n",
    "ax.spines[\"right\"].set_visible(False)\n",
    "\n",
    "plt.show()"
   ]
  },
  {
   "cell_type": "markdown",
   "metadata": {},
   "source": [
    "It shows the input and output of the function $f(x)$. Of course, we don't know what that function is explicitly, but we can see that for a given input $x$, there is a corresponding output $f(x)$. Now suppose we want to model this function, how do we approach the problem?\n",
    "\n",
    "Well, we can see that as $x$ increases, $f(x)$ tends to increase as well. Therefore, a good place to start is with a **linear model**. Let's assume that the function is linear, and so we can represent it mathematically as\n",
    "\n",
    "$$\n",
    "\\hat{f}(x) = wx + b\n",
    "$$\n",
    "\n",
    "where $x$ is the input, and the **parameters** $w$ and $b$ are the weight and bias. The graph indicates that the domain of $x$ is within the range $(-1, 1)$, but the main question is, what values should $w$ and $b$ take on? In other words, what line best **approximates** the function?\n",
    "\n",
    "Let's just set them randomly to begin with and see what happens..."
   ]
  },
  {
   "cell_type": "code",
   "execution_count": 4,
   "metadata": {},
   "outputs": [
    {
     "name": "stdout",
     "output_type": "stream",
     "text": [
      "w=0.222, b=0.871\n"
     ]
    }
   ],
   "source": [
    "# Initialise parameters\n",
    "np.random.seed(5)\n",
    "w = np.random.random()\n",
    "b = np.random.random()\n",
    "print(f\"w={w:.3f}, b={b:.3f}\")\n",
    "\n",
    "# Make prediction\n",
    "f_hat_x = w*x + b"
   ]
  },
  {
   "cell_type": "code",
   "execution_count": 5,
   "metadata": {},
   "outputs": [
    {
     "data": {
      "image/png": "[encoded data removed]",
      "text/plain": [
       "<Figure size 432x288 with 1 Axes>"
      ]
     },
     "metadata": {
      "needs_background": "light"
     },
     "output_type": "display_data"
    }
   ],
   "source": [
    "plt.scatter(x, f_x)\n",
    "plt.plot(x, f_hat_x, color=\"black\")\n",
    "\n",
    "plt.ylabel(\"$f(x)$\")\n",
    "plt.xlabel(\"$x$\")\n",
    "plt.ylim(0, 1.1)\n",
    "\n",
    "ax = plt.gca()\n",
    "ax.spines[\"top\"].set_visible(False)\n",
    "ax.spines[\"right\"].set_visible(False)\n",
    "plt.show()"
   ]
  },
  {
   "cell_type": "markdown",
   "metadata": {},
   "source": [
    "It's obvious to our eye that the line isn't a good fit. However, let's quantify how bad it is. We can measure how much **error** there is in the model's prediction compared to the known output, $f(x)$. Specifically, we will use the **mean squared error** and refer to it as the **loss**."
   ]
  },
  {
   "cell_type": "code",
   "execution_count": 6,
   "metadata": {},
   "outputs": [
    {
     "name": "stdout",
     "output_type": "stream",
     "text": [
      "MSE: 0.109\n"
     ]
    }
   ],
   "source": [
    "error = f_x - f_hat_x\n",
    "loss = np.mean(np.square(error))\n",
    "print(f\"MSE: {loss:.3f}\")"
   ]
  },
  {
   "cell_type": "markdown",
   "metadata": {},
   "source": [
    "Knowing that our line has this error, is there some way in which we could change $w$ or $b$ that would improve the loss, that is to say, **minimise** it? To help, we can check what effect a *small change* in each parameter has on the loss."
   ]
  },
  {
   "cell_type": "code",
   "execution_count": 7,
   "metadata": {},
   "outputs": [
    {
     "name": "stdout",
     "output_type": "stream",
     "text": [
      "∂ loss / ∂ w = -0.175\n",
      "∂ loss / ∂ b = 0.566\n"
     ]
    }
   ],
   "source": [
    "# epsilon - small change\n",
    "e = 1e-10\n",
    "\n",
    "# Make predictions with changed parameters\n",
    "f_hat_x_w = (w+e)*x + b\n",
    "f_hat_x_b = w*x + (b+e)\n",
    "\n",
    "# Calculate loss\n",
    "loss_w = np.mean(np.square(f_x - f_hat_x_w))\n",
    "loss_b = np.mean(np.square(f_x - f_hat_x_b))\n",
    "\n",
    "# Calculate change in loss (rate of change)\n",
    "# w.r.t each parameter i.e. the partial derivative (∂)\n",
    "d_w = (loss_w - loss) / e\n",
    "d_b = (loss_b - loss) / e\n",
    "\n",
    "print(f\"∂ loss / ∂ w = {d_w:.3f}\")\n",
    "print(f\"∂ loss / ∂ b = {d_b:.3f}\")"
   ]
  },
  {
   "cell_type": "markdown",
   "metadata": {},
   "source": [
    "This tells us that if we increase $w$ just slightly, the loss will *decrease*, and if we increase $b$ just slightly, the loss will *increase*. Using this information, we can update our parameters using their partial derivatives, or their **gradients**, changing them so that the loss will improve. Let's do that!"
   ]
  },
  {
   "cell_type": "code",
   "execution_count": 8,
   "metadata": {},
   "outputs": [
    {
     "name": "stdout",
     "output_type": "stream",
     "text": [
      "w=0.397, b=0.305\n"
     ]
    }
   ],
   "source": [
    "# Update parameters based on gradients\n",
    "w -= d_w\n",
    "b -= d_b\n",
    "print(f\"w={w:.3f}, b={b:.3f}\")"
   ]
  },
  {
   "cell_type": "markdown",
   "metadata": {},
   "source": [
    "We can now make a new prediction and see the result of our new line."
   ]
  },
  {
   "cell_type": "code",
   "execution_count": 9,
   "metadata": {},
   "outputs": [
    {
     "name": "stdout",
     "output_type": "stream",
     "text": [
      "MSE: 0.090\n"
     ]
    },
    {
     "data": {
      "image/png": "[encoded data removed]",
      "text/plain": [
       "<Figure size 432x288 with 1 Axes>"
      ]
     },
     "metadata": {
      "needs_background": "light"
     },
     "output_type": "display_data"
    }
   ],
   "source": [
    "# Make new prediction\n",
    "f_hat_x = w*x + b\n",
    "\n",
    "# Calculate loss\n",
    "error = f_x - f_hat_x\n",
    "loss = np.mean(np.square(error))\n",
    "print(f\"MSE: {loss:.3f}\")\n",
    "\n",
    "# Show results\n",
    "plt.scatter(x, f_x)\n",
    "plt.plot(x, f_hat_x, color=\"black\")\n",
    "\n",
    "plt.ylabel(\"$f(x)$\")\n",
    "plt.xlabel(\"$x$\")\n",
    "plt.ylim(0, 1.1)\n",
    "\n",
    "ax = plt.gca()\n",
    "ax.spines[\"top\"].set_visible(False)\n",
    "ax.spines[\"right\"].set_visible(False)\n",
    "plt.show()"
   ]
  },
  {
   "cell_type": "markdown",
   "metadata": {},
   "source": [
    "We can see that the loss has improved, but the line has jumped a long way from where it was. Instead of updating $w$ and $b$ by a large amount, we can update them using a smaller step size, refered to as $\\alpha$, which is a **hyperparameter** that we can pick ourselves. Let's start again, but this time set $\\alpha=0.1$, and repeat the update step $n=20$ times."
   ]
  },
  {
   "cell_type": "code",
   "execution_count": 10,
   "metadata": {},
   "outputs": [
    {
     "data": {
      "image/png": "[encoded data removed]",
      "text/plain": [
       "<Figure size 432x288 with 1 Axes>"
      ]
     },
     "metadata": {
      "needs_background": "light"
     },
     "output_type": "display_data"
    }
   ],
   "source": [
    "# Hyperparameters\n",
    "α = 0.1\n",
    "n = 20\n",
    "\n",
    "# Parameters\n",
    "np.random.seed(5)\n",
    "w = np.random.random()\n",
    "b = np.random.random()\n",
    "\n",
    "# History\n",
    "losses = []\n",
    "ws = [w]\n",
    "bs = [b]\n",
    "\n",
    "# Update Loop\n",
    "for step in range(n):\n",
    "    \n",
    "    # Make prediction\n",
    "    f_hat_x = w*x + b\n",
    "    \n",
    "    # Calculate loss\n",
    "    error = f_x - f_hat_x\n",
    "    loss = np.mean(np.square(error))    \n",
    "        \n",
    "    # Find derivatives\n",
    "    # Make predictions with changed parameters\n",
    "    f_hat_x_w = (w+e)*x + b\n",
    "    f_hat_x_b = w*x + (b+e)\n",
    "\n",
    "    # Re-Calculate loss\n",
    "    loss_w = np.mean(np.square(f_x - f_hat_x_w))\n",
    "    loss_b = np.mean(np.square(f_x - f_hat_x_b))\n",
    "\n",
    "    # Calculate change in loss (rate of change)\n",
    "    # w.r.t each parameter i.e. the partial derivative (∂)\n",
    "    d_w = (loss_w - loss) / e\n",
    "    d_b = (loss_b - loss) / e\n",
    "    \n",
    "    # Update parameters\n",
    "    w -= α*d_w\n",
    "    b -= α*d_b\n",
    "    \n",
    "    # Add to history\n",
    "    losses.append(loss)\n",
    "    ws.append(w)\n",
    "    bs.append(b)\n",
    "    \n",
    "    \n",
    "#     # ---- OPTIONAL - CREATE FRAMES FOR GIF ------ #\n",
    "#     # Show results\n",
    "#     plt.scatter(x, f_x)\n",
    "#     plt.plot(x, f_hat_x, color=\"black\")\n",
    "\n",
    "#     plt.ylabel(\"$f(x)$\")\n",
    "#     plt.xlabel(\"$x$\")\n",
    "#     plt.ylim(0, 1.1)\n",
    "\n",
    "#     plt.text(-1, 1.2, f\"Update Step: {step:03d}\")\n",
    "#     ax = plt.gca()\n",
    "#     ax.spines[\"top\"].set_visible(False)\n",
    "#     ax.spines[\"right\"].set_visible(False)\n",
    "#     plt.savefig(f\"./out/plot_{step:03d}\", dpi=100)\n",
    "#     plt.close()\n",
    "\n",
    "plt.plot(range(20), losses)\n",
    "plt.xlabel(\"Update Steps\")\n",
    "plt.ylabel(\"MSE Loss\")\n",
    "plt.xticks(range(20))\n",
    "ax = plt.gca()\n",
    "ax.spines[\"top\"].set_visible(False)\n",
    "ax.spines[\"right\"].set_visible(False)\n",
    "plt.show()\n",
    "\n",
    "# Convert to numpy\n",
    "bs = np.array(bs)\n",
    "ws = np.array(ws)"
   ]
  },
  {
   "cell_type": "markdown",
   "metadata": {},
   "source": [
    "We can see from the graph above that after each update step the loss decreases. Interestingly, we can see a corresponding improvement in the quality of the model in the animation below. "
   ]
  },
  {
   "cell_type": "markdown",
   "metadata": {},
   "source": [
    "![Learning Line](./assets/learning_line.gif)"
   ]
  },
  {
   "cell_type": "markdown",
   "metadata": {},
   "source": [
    "The algorithm we used to update the parameters is called **gradient descent**, and it works by using the gradients to descend down the loss landscape. Within that landscape (the space of all possible values for $w$ and $b$) is hopefully a combination of the two parameters that minimises the loss to the greatest possible extent. This is called the **global optimum**. We can visualise the loss landscape by making predictions for all combinations for $w$ and $b$."
   ]
  },
  {
   "cell_type": "code",
   "execution_count": 11,
   "metadata": {},
   "outputs": [],
   "source": [
    "# Initialise landscape with zeros (empty)\n",
    "landscape = np.zeros((20, 20))\n",
    "\n",
    "MIN = float(\"inf\")\n",
    "min_w = None\n",
    "min_b = None\n",
    "\n",
    "# Loop through range of values for w\n",
    "for r, w in enumerate(np.arange(0, 1, 0.05)):\n",
    "    # Loop through range of values for b\n",
    "    for c, b in enumerate(np.arange(0, 1, 0.05)):\n",
    "        \n",
    "        # Make prediction with parameters and calcuate loss\n",
    "        loss = np.mean(np.square(f_x - (w*x + b)))\n",
    "        \n",
    "        # Update the landscape\n",
    "        landscape[r, c] = loss\n",
    "        \n",
    "        # Track parameters with smallest loss\n",
    "        if loss < MIN:\n",
    "            MIN = loss\n",
    "            min_w = w\n",
    "            min_b = b"
   ]
  },
  {
   "cell_type": "code",
   "execution_count": 12,
   "metadata": {},
   "outputs": [
    {
     "data": {
      "image/png": "[encoded data removed]",
      "text/plain": [
       "<Figure size 576x576 with 2 Axes>"
      ]
     },
     "metadata": {
      "needs_background": "light"
     },
     "output_type": "display_data"
    }
   ],
   "source": [
    "plt.figure(figsize=(8, 8))\n",
    "plt.title(\"Loss Landscape\")\n",
    "im = plt.imshow(landscape)\n",
    "plt.scatter(bs*20, ws*20, color=\"red\", label=\"Progressive Loss\")\n",
    "plt.plot(bs*20, ws*20, color=\"red\")\n",
    "plt.scatter(min_b*20, min_w*20, color=\"red\", marker=\"x\", label=\"Global Optimum\")\n",
    "plt.xlabel(\"$b$ values\")\n",
    "plt.ylabel(\"$w$ values\")\n",
    "plt.xticks(ticks=range(0, 20, 4), labels=np.round(np.arange(0, 1, 0.2), 2))\n",
    "plt.yticks(ticks=range(0, 20, 4), labels=np.round(np.arange(0, 1, 0.2), 2))\n",
    "plt.legend()\n",
    "\n",
    "ax = plt.gca()\n",
    "divider = make_axes_locatable(ax)\n",
    "cax = divider.append_axes(\"right\", size=\"5%\", pad=0.05)\n",
    "plt.colorbar(im, cax=cax)\n",
    "\n",
    "\n",
    "\n",
    "plt.show()"
   ]
  },
  {
   "cell_type": "markdown",
   "metadata": {},
   "source": [
    "We can see that over the course of the optimisation process, the loss tracks towards the global optimum (but in this case doesn't quite make it!). Whether we make it or not depends a lot of factors. Some common pits falls include picking the wrong hyperparameters such as  $\\alpha$, also known as the **learning rate**, or how long the algorithm is run for (the number of updates). These values needed to be *tuned* and tested empircally (via experiment!). \n",
    "\n",
    "For most problems in machine learning it is intractable to visualise the loss landscape and pick the global optimum. But of course, the value of gradient descent is that we don't have to. The algorithm tends to track towards the global minimum. However, sometimes, and perhaps often, the algorithm gets stuck in a **local minimum**, a place in the landscape which is the lowest in a local area. It cannot escape because the learning rate may be too small, or because the intial values doomed the algorithm from the start. In the later case, it can help by selecting new random values for the parameters and running the optimisation process again. In any case, optimization is an enormously empircal science, and despite being able to develop intution, **hyperparameter tuning** is part and parcel of the dark art of machine learning."
   ]
  },
  {
   "cell_type": "markdown",
   "metadata": {},
   "source": [
    "# 02 Non-Linear Approximation"
   ]
  },
  {
   "cell_type": "markdown",
   "metadata": {},
   "source": [
    "Consider the graph below:"
   ]
  },
  {
   "cell_type": "markdown",
   "metadata": {},
   "source": [
    "![Binary Classification](./assets/binary.png)"
   ]
  },
  {
   "cell_type": "markdown",
   "metadata": {},
   "source": [
    "The data above indicates that a particular combination of $x_1$ and $x_2$ result in a blue class, and another combination in an orange class. \n",
    "\n",
    "$$\n",
    "w_1x_1 + w_2x_2 + b\n",
    "$$\n",
    "\n",
    "However, as represented above, such a combination is still a linear combination. How do we get a hard limit, where a point is either in one class or the other? In essence, we want a function like:\n",
    "\n",
    "$$\n",
    "f(x_1, x_2) =\n",
    "  \\begin{cases}\n",
    "    0 & \\text{if combination of $x_1$ and $x_2$ belong to orange class} \\\\\n",
    "    1 & \\text{if combination of $x_1$ and $x_2$ belong to blue class} \\\\\n",
    "  \\end{cases}\n",
    "$$\n",
    "\n",
    "\n",
    "To do this we need to introduce a **non-linearity function**; a function which removes the continuity between classes. A common non-linearity function is the **sigmoid** function:\n",
    "\n",
    "$$\n",
    "\\sigma(z) = \\dfrac{e^z}{e^z + 1}\n",
    "$$\n",
    "\n",
    "<br>\n",
    "\n",
    "\n",
    "![sigmoid function](./assets/sigmoid.png)"
   ]
  },
  {
   "cell_type": "code",
   "execution_count": 13,
   "metadata": {},
   "outputs": [],
   "source": [
    "def σ(z):\n",
    "    return np.exp(z) / (np.exp(z) + 1)"
   ]
  },
  {
   "cell_type": "markdown",
   "metadata": {},
   "source": [
    "We can see that the range of $z$ is linear, and that values where $z < 0$ are mapped to values  $\\sigma(z) \\approx 0$, and values where $z > 0$ are mapped to values $\\sigma(z) \\approx 1$. Where  $z=0$, then $\\sigma(z) = 0.5$. This tells us that we can **input a linear function to the sigmoid function** and have those values transformed into values of approximately $0$ or $1$. We can write this out as:\n",
    "\n",
    "$$\n",
    "f(x_1, x_2) = \\sigma(w_1x_1 + w_2x_2 + b)\n",
    "$$\n",
    "\n",
    "We therefore want to find a linear combination of the inputs $x_1$, and $x_2$, so that when fed into the sigmoid function we can discriminate, or classify points as either orange or blue. We can use the same approach as before, except this time we have one more parameter $w_2$ to incorporate, and we assume that $f(x_1, x_2)$ (which we are approximating) outputs strictly $0$ and $1$."
   ]
  },
  {
   "cell_type": "code",
   "execution_count": 14,
   "metadata": {},
   "outputs": [
    {
     "data": {
      "text/plain": [
       "array([0., 0., 0., 0., 0., 0., 0., 0., 0., 0., 0., 0., 0., 0., 0., 0., 0.,\n",
       "       0., 0., 0., 1., 1., 1., 1., 1., 1., 1., 1., 1., 1., 1., 1., 1., 1.,\n",
       "       1., 1., 1., 1., 1., 1.])"
      ]
     },
     "execution_count": 14,
     "metadata": {},
     "output_type": "execute_result"
    }
   ],
   "source": [
    "f_x_1_2 = (classes != \"orange\")*1.;\n",
    "f_x_1_2"
   ]
  },
  {
   "cell_type": "code",
   "execution_count": 15,
   "metadata": {},
   "outputs": [
    {
     "data": {
      "image/png": "[encoded data removed]",
      "text/plain": [
       "<Figure size 432x288 with 1 Axes>"
      ]
     },
     "metadata": {
      "needs_background": "light"
     },
     "output_type": "display_data"
    }
   ],
   "source": [
    "# Hyperparameters\n",
    "α = 0.5\n",
    "n = 50\n",
    "\n",
    "# Parameters\n",
    "np.random.seed(5)\n",
    "w1 = np.random.random()\n",
    "w2 = np.random.random()\n",
    "b = np.random.random()\n",
    "\n",
    "# History\n",
    "losses = []\n",
    "w1s = [w1]\n",
    "w2s = [w2]\n",
    "bs = [b]\n",
    "\n",
    "# Update Loop\n",
    "for step in range(n):\n",
    "    \n",
    "    # Make prediction\n",
    "    f_hat_x_1_2 = σ(w1*x_1 + w2*x_2 + b)\n",
    "    \n",
    "    # Calculate loss\n",
    "    error = f_x_1_2 - f_hat_x_1_2\n",
    "    loss = np.mean(np.square(error))    \n",
    "        \n",
    "    # Find derivatives\n",
    "    # Make predictions with changed parameters\n",
    "    f_hat_x_1_2_w1 = σ((w1+e)*x_1 + w2*x_2 + b)\n",
    "    f_hat_x_1_2_w2 = σ(w1*x_1 + (w2+e)*x_2 + b)\n",
    "    f_hat_x_1_2_b  = σ(w1*x_1 + w2*x_2 + (b+e))\n",
    "\n",
    "    # Re-Calculate loss\n",
    "    loss_w1 = np.mean(np.square(f_x_1_2 - f_hat_x_1_2_w1))\n",
    "    loss_w2 = np.mean(np.square(f_x_1_2 - f_hat_x_1_2_w2))\n",
    "    loss_b  = np.mean(np.square(f_x_1_2 - f_hat_x_1_2_b))\n",
    "\n",
    "    # Calculate change in loss (rate of change)\n",
    "    # w.r.t each parameter i.e. the partial derivative (∂)\n",
    "    d_w1 = (loss_w1 - loss) / e\n",
    "    d_w2 = (loss_w2 - loss) / e\n",
    "    d_b  = (loss_b - loss)  / e\n",
    "    \n",
    "    # Update parameters\n",
    "    w1 -= α*d_w1\n",
    "    w2 -= α*d_w2\n",
    "    b -= α*d_b\n",
    "    \n",
    "    # Add to history\n",
    "    losses.append(loss)\n",
    "    w1s.append(w1)\n",
    "    w2s.append(w2)\n",
    "    bs.append(b)\n",
    "    \n",
    "    \n",
    "#     # ---- OPTIONAL CLASSIFY ----- #\n",
    "#     f_hat_x_1_2 = σ(w1*x_1 + w2*x_2 + b)\n",
    "#     # Predict classes based on threshold of 0.5\n",
    "#     pred = f_hat_x_1_2 > 0.5\n",
    "#     pred_colors= [\"orange\" if y == 0 else blue for y in pred]\n",
    "    \n",
    "#     plt.text(0, 3.7, f\"Update Step: {step:03d}\")\n",
    "#     plt.scatter(x_1, x_2, c=pred_colors)\n",
    "#     plt.xlim(-0.25, 3.5)\n",
    "#     plt.ylim(-0.5, 3.5)\n",
    "\n",
    "#     plt.xlabel(\"$x_1$\")\n",
    "#     plt.ylabel(\"$x_2$\")\n",
    "\n",
    "#     ax = plt.gca()\n",
    "#     ax.spines[\"top\"].set_visible(False)\n",
    "#     ax.spines[\"right\"].set_visible(False)\n",
    "\n",
    "#     plt.savefig(f\"./out/plot_{step:03d}\", dpi=100)\n",
    "#     plt.close()\n",
    "\n",
    "#     # ---- OPTIONAL DECISION BOUNDARIES----- #\n",
    "#     decision_boundaries = np.zeros((75, 75))\n",
    "\n",
    "#     for r, x1 in enumerate(np.arange(-0.25, 3.5, 0.05)):\n",
    "#         for c, x2 in enumerate(np.arange(-0.25, 3.5, 0.05)):\n",
    "\n",
    "#             decision_boundaries[r, c] = σ(w1*x1 + w2*x2 + b)\n",
    "\n",
    "#     scale_factor = 3.75 / 75\n",
    "#     plt.figure(figsize=(8, 8))\n",
    "#     plt.text(0, 80, f\"Update Step: {step:03d}\")\n",
    "#     plt.scatter(x_1/scale_factor, x_2/scale_factor, c=classes)\n",
    "#     im = plt.imshow(decision_boundaries, vmin=0, vmax=1, cmap=grad)\n",
    "#     ax = plt.gca()\n",
    "#     ax.invert_yaxis()\n",
    "\n",
    "\n",
    "\n",
    "#     plt.xticks(ticks=range(0, 75, 5), labels=np.round(np.arange(-0.25, 3.5, (3.75 / 75 * 5)), 2), rotation=90)\n",
    "#     plt.yticks(ticks=range(0, 75, 5), labels=np.round(np.arange(-0.25, 3.5, (3.75 / 75 * 5)), 2))\n",
    "\n",
    "#     plt.xlabel(\"$x_1$\")\n",
    "#     plt.ylabel(\"$x_2$\")\n",
    "\n",
    "#     divider = make_axes_locatable(ax)\n",
    "#     cax = divider.append_axes(\"right\", size=\"5%\", pad=0.05)\n",
    "#     plt.colorbar(im, cax=cax)\n",
    "\n",
    "#     plt.tight_layout()\n",
    "#     plt.savefig(f\"./out/plot_{step:03d}\", dpi=100)\n",
    "#     plt.close()\n",
    "    \n",
    "plt.plot(range(n), losses)\n",
    "plt.xlabel(\"Update Steps\")\n",
    "plt.ylabel(\"MSE Loss\")\n",
    "plt.xticks(range(0, n, 10))\n",
    "ax = plt.gca()\n",
    "ax.spines[\"top\"].set_visible(False)\n",
    "ax.spines[\"right\"].set_visible(False)\n",
    "plt.show()"
   ]
  },
  {
   "cell_type": "markdown",
   "metadata": {},
   "source": [
    "Again, we can see the loss progressively improving, and below we can see the classification outcomes. As training continues, more and more points are being correctly classified."
   ]
  },
  {
   "cell_type": "markdown",
   "metadata": {},
   "source": [
    "![Learning Binary](./assets/binary_classification.gif)"
   ]
  },
  {
   "cell_type": "markdown",
   "metadata": {},
   "source": [
    "These are on the points from the data, but there is a whole domain over which the function is defined. We can visualise the **decision boundaries**, showing us where the model discriminates between the two classes for all points (see code in main update loop).\n",
    "\n",
    "![Deicsion Boundary](./assets/decision_boundary.gif)"
   ]
  },
  {
   "cell_type": "markdown",
   "metadata": {},
   "source": [
    "The white line is the boundary when the model is 50% confident in assigning the class. Of course, there are still errors! But we have learned a model which minimises the loss and on average does a pretty good job. We can quanity that by calculating the classification accuracy."
   ]
  },
  {
   "cell_type": "code",
   "execution_count": 16,
   "metadata": {},
   "outputs": [
    {
     "name": "stdout",
     "output_type": "stream",
     "text": [
      "Acc: 82.50%\n"
     ]
    }
   ],
   "source": [
    "y_pred = σ(w1*x_1 + w2*x_2 + b) > 0.5\n",
    "y_true = f_x_1_2\n",
    "# Accuracy\n",
    "acc = np.sum(y_pred == y_true) / len(y_pred)\n",
    "print(f\"Acc: {acc*100:.2f}%\")"
   ]
  },
  {
   "cell_type": "markdown",
   "metadata": {},
   "source": [
    "# Conclusion\n",
    "\n",
    "Here we have discovered that we can train linear and non-linear models via **gradient descent**. An obvious ineffiency is that we have to compute the loss for **every parameter** we wish to update. This is expensive for all but the most simple problems. Foretunately, instead of approximating the gradients by adding $e$, we can use the analytical method to compute them in-place, using what is called the **back-propagation algorithm**. What is better is that libraries such as `tensorflow` calculate the gradients for us automatically! We only need to think about designing the model which makes developing and testing machine learning models very easy.\n",
    "\n",
    "Another important thing to note is that our models are made up of two simple ideas. **Linear combinations** and **Non-linear transformations**. There is no limit to the number of inputs we could have to the model. For example, \n",
    "\n",
    "$$\n",
    "f(x) = \\sigma(w_1x_1 + w_2x_2 + w_3x_3 + w_4x_4 + w_5x_5 + w_6x_6 + b)\n",
    "$$\n",
    "\n",
    "Just note that for every input there must be a learnable parameter to accompany it. \n",
    "\n",
    "You now are familiar with the building blocks of what are called Artificial Neural Networks (ANNs), the algorithm which underpins the success of Deep Learning in recent years. ANNs will be introduced in the next notebook."
   ]
  }
 ],
 "metadata": {
  "kernelspec": {
   "display_name": "Python 3",
   "language": "python",
   "name": "python3"
  },
  "language_info": {
   "codemirror_mode": {
    "name": "ipython",
    "version": 3
   },
   "file_extension": ".py",
   "mimetype": "text/x-python",
   "name": "python",
   "nbconvert_exporter": "python",
   "pygments_lexer": "ipython3",
   "version": "3.7.6"
  }
 },
 "nbformat": 4,
 "nbformat_minor": 4
}
